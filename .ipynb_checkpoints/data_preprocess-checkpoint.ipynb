{
 "cells": [
  {
   "cell_type": "code",
   "execution_count": 1,
   "metadata": {
    "collapsed": true
   },
   "outputs": [],
   "source": [
    "import numpy as np"
   ]
  },
  {
   "cell_type": "code",
   "execution_count": 2,
   "metadata": {
    "collapsed": true
   },
   "outputs": [],
   "source": [
    "from imdb.caltech_imdb import caltech_imdb\n",
    "from roidb import roidb\n",
    "import cv2\n",
    "import matplotlib.pyplot as plt"
   ]
  },
  {
   "cell_type": "code",
   "execution_count": 4,
   "metadata": {
    "collapsed": false
   },
   "outputs": [
    {
     "name": "stdout",
     "output_type": "stream",
     "text": [
      "[INFO - imdb]: train gt roidb loaded from ./train_gt_roidb.pkl\n",
      "Filtered 117724 roidb entries: 249747 -> 132023\n"
     ]
    }
   ],
   "source": [
    "imdb_caltech = caltech_imdb('train', './data')\n",
    "roidb.prepare_roidb(imdb_caltech)\n",
    "filtered_roi = roidb.filter_roidb(imdb_caltech.roidb)"
   ]
  },
  {
   "cell_type": "code",
   "execution_count": 5,
   "metadata": {
    "collapsed": false
   },
   "outputs": [
    {
     "data": {
      "text/plain": [
       "{'boxes': array([[214, 141, 218, 150]], dtype=uint16),\n",
       " 'flipped': False,\n",
       " 'gt_classes': array([1], dtype=int32),\n",
       " 'gt_overlaps': <1x2 sparse matrix of type '<type 'numpy.float32'>'\n",
       " \twith 1 stored elements in Compressed Sparse Row format>,\n",
       " 'height': 480,\n",
       " 'image': './data/Images/set00_V000_0069.jpg',\n",
       " 'max_classes': array([1]),\n",
       " 'max_overlaps': array([ 1.], dtype=float32),\n",
       " 'seg_areas': array([ 50.], dtype=float32),\n",
       " 'width': 640}"
      ]
     },
     "execution_count": 5,
     "metadata": {},
     "output_type": "execute_result"
    }
   ],
   "source": [
    "filtered_roi[1]"
   ]
  },
  {
   "cell_type": "code",
   "execution_count": 9,
   "metadata": {
    "collapsed": false
   },
   "outputs": [
    {
     "name": "stdout",
     "output_type": "stream",
     "text": [
      "Invalid width at index 1192\n",
      "Invalid width at index 2450\n",
      "Invalid width at index 2461\n",
      "Invalid width at index 2466\n",
      "Invalid width at index 2502\n",
      "Invalid width at index 2577\n",
      "Invalid width at index 2600\n",
      "Invalid width at index 2601\n",
      "Invalid width at index 2602\n",
      "Invalid width at index 2603\n",
      "Invalid width at index 2604\n",
      "Invalid width at index 2615\n",
      "Invalid width at index 4215\n",
      "Invalid width at index 4767\n",
      "Invalid width at index 5285\n",
      "Invalid width at index 5634\n",
      "Invalid width at index 6301\n",
      "Invalid width at index 6302\n",
      "Invalid width at index 6303\n",
      "Invalid height at index 6401\n",
      "Invalid width at index 7107\n",
      "Invalid width at index 7280\n",
      "Invalid width at index 7281\n",
      "Invalid width at index 8454\n",
      "Invalid width at index 8783\n",
      "Invalid width at index 8804\n",
      "Invalid width at index 9021\n",
      "Invalid width at index 9023\n",
      "Invalid width at index 9051\n",
      "Invalid width at index 9183\n",
      "Invalid width at index 9212\n",
      "Invalid width at index 9254\n",
      "Invalid width at index 9473\n",
      "Invalid width at index 9475\n",
      "Invalid width at index 9478\n",
      "Invalid width at index 9597\n",
      "Invalid width at index 10391\n",
      "Invalid width at index 10891\n",
      "Invalid width at index 11347\n",
      "Invalid width at index 11581\n",
      "Invalid width at index 12128\n",
      "Invalid width at index 12129\n",
      "Invalid width at index 12198\n",
      "Invalid width at index 12201\n",
      "Invalid width at index 12254\n",
      "Invalid width at index 12255\n",
      "Invalid width at index 12261\n",
      "Invalid width at index 12787\n",
      "Invalid width at index 13232\n",
      "Invalid width at index 13259\n",
      "Invalid width at index 13534\n",
      "Invalid width at index 14645\n",
      "Invalid width at index 14813\n",
      "Invalid width at index 15591\n",
      "Invalid width at index 15709\n",
      "Invalid width at index 15724\n",
      "Invalid width at index 15742\n",
      "Invalid width at index 15830\n",
      "Invalid width at index 15833\n",
      "Invalid width at index 15865\n",
      "Invalid width at index 15879\n",
      "Invalid width at index 16927\n",
      "Invalid width at index 17662\n",
      "Invalid width at index 18371\n",
      "Invalid width at index 19260\n",
      "Invalid width at index 20659\n",
      "Invalid width at index 20947\n",
      "Invalid width at index 21001\n",
      "Invalid width at index 21569\n",
      "Invalid width at index 23075\n",
      "Invalid width at index 24110\n",
      "Invalid width at index 24114\n",
      "Invalid width at index 24115\n",
      "Invalid width at index 24121\n",
      "Invalid width at index 24212\n",
      "Invalid width at index 24215\n",
      "Invalid width at index 25331\n",
      "Invalid width at index 25801\n",
      "Invalid width at index 26246\n",
      "Invalid width at index 26532\n",
      "Invalid width at index 26957\n",
      "Invalid width at index 27227\n",
      "Invalid width at index 27970\n",
      "Invalid width at index 27975\n",
      "Invalid width at index 28833\n",
      "Invalid width at index 29216\n",
      "Invalid width at index 29224\n",
      "Invalid width at index 29226\n",
      "Invalid width at index 30526\n",
      "Invalid width at index 42057\n",
      "Invalid width at index 42104\n",
      "Invalid width at index 42279\n",
      "Invalid width at index 42280\n",
      "Invalid width at index 42281\n",
      "Invalid width at index 42282\n",
      "Invalid width at index 42283\n",
      "Invalid width at index 42284\n",
      "Invalid width at index 42396\n",
      "Invalid width at index 42514\n",
      "Invalid width at index 42524\n",
      "Invalid width at index 42547\n",
      "Invalid width at index 42595\n",
      "Invalid width at index 44918\n",
      "Invalid width at index 53367\n",
      "Invalid width at index 55179\n",
      "Invalid width at index 59182\n",
      "Invalid width at index 63658\n",
      "Invalid width at index 63660\n",
      "Invalid height at index 66744\n",
      "Invalid width at index 67803\n",
      "Invalid width at index 68214\n",
      "Invalid width at index 68220\n",
      "Invalid width at index 69618\n",
      "Invalid width at index 72897\n",
      "Invalid width at index 75358\n",
      "Invalid width at index 78540\n",
      "Invalid width at index 79288\n",
      "Invalid width at index 82064\n",
      "Invalid width at index 83293\n",
      "Invalid width at index 84133\n",
      "Invalid width at index 84322\n",
      "Invalid width at index 88007\n",
      "Invalid width at index 98012\n",
      "Invalid width at index 98714\n",
      "Invalid width at index 99152\n",
      "Invalid width at index 99155\n",
      "Invalid width at index 99158\n",
      "Invalid width at index 99988\n",
      "Invalid width at index 103128\n",
      "Invalid width at index 107247\n",
      "Invalid width at index 107250\n",
      "Invalid width at index 111027\n",
      "Invalid width at index 111513\n",
      "Invalid width at index 111887\n",
      "Invalid width at index 112522\n",
      "Invalid width at index 116188\n",
      "Invalid width at index 117281\n",
      "Invalid width at index 121726\n",
      "Invalid width at index 127717\n",
      "Invalid width at index 127824\n",
      "Invalid height at index 128412\n",
      "Invalid width at index 128424\n",
      "Invalid width at index 128437\n",
      "Invalid width at index 128827\n",
      "Invalid width at index 130737\n",
      "Invalid width at index 130743\n",
      "Invalid width at index 131124\n"
     ]
    }
   ],
   "source": [
    "### Further filter out the entries with invalid boxes\n",
    "\n",
    "valid_roi = []\n",
    "for i, roi in enumerate(filtered_roi):\n",
    "    valid = True\n",
    "    boxes = roi['boxes']\n",
    "    height = roi['height']\n",
    "    width = roi['width']\n",
    "    for box in boxes:\n",
    "        if box[0] > width or box[2] > width:\n",
    "            print 'Invalid width at index {}'.format(i)\n",
    "            valid = False\n",
    "        if box[1] > height or box[3] > height:\n",
    "            print 'Invalid height at index {}'.format(i)\n",
    "            valid = False\n",
    "    if valid:\n",
    "        valid_roi.append(roi)\n",
    "        "
   ]
  },
  {
   "cell_type": "code",
   "execution_count": 10,
   "metadata": {
    "collapsed": false
   },
   "outputs": [
    {
     "data": {
      "text/plain": [
       "{'boxes': array([[623, 133, 641, 178]], dtype=uint16),\n",
       " 'flipped': False,\n",
       " 'gt_classes': array([1], dtype=int32),\n",
       " 'gt_overlaps': <1x2 sparse matrix of type '<type 'numpy.float32'>'\n",
       " \twith 1 stored elements in Compressed Sparse Row format>,\n",
       " 'height': 480,\n",
       " 'image': './data/Images/set00_V000_1347.jpg',\n",
       " 'max_classes': array([1]),\n",
       " 'max_overlaps': array([ 1.], dtype=float32),\n",
       " 'seg_areas': array([ 874.], dtype=float32),\n",
       " 'width': 640}"
      ]
     },
     "execution_count": 10,
     "metadata": {},
     "output_type": "execute_result"
    }
   ],
   "source": [
    "filtered_roi[1192]"
   ]
  },
  {
   "cell_type": "code",
   "execution_count": 11,
   "metadata": {
    "collapsed": false
   },
   "outputs": [
    {
     "data": {
      "text/plain": [
       "131876"
      ]
     },
     "execution_count": 11,
     "metadata": {},
     "output_type": "execute_result"
    }
   ],
   "source": [
    "len(valid_roi)"
   ]
  },
  {
   "cell_type": "code",
   "execution_count": 12,
   "metadata": {
    "collapsed": false
   },
   "outputs": [
    {
     "data": {
      "text/plain": [
       "132023"
      ]
     },
     "execution_count": 12,
     "metadata": {},
     "output_type": "execute_result"
    }
   ],
   "source": [
    "len(filtered_roi)"
   ]
  },
  {
   "cell_type": "code",
   "execution_count": null,
   "metadata": {
    "collapsed": true
   },
   "outputs": [],
   "source": []
  }
 ],
 "metadata": {
  "kernelspec": {
   "display_name": "Python 2",
   "language": "python",
   "name": "python2"
  },
  "language_info": {
   "codemirror_mode": {
    "name": "ipython",
    "version": 2
   },
   "file_extension": ".py",
   "mimetype": "text/x-python",
   "name": "python",
   "nbconvert_exporter": "python",
   "pygments_lexer": "ipython2",
   "version": "2.7.11"
  }
 },
 "nbformat": 4,
 "nbformat_minor": 0
}
